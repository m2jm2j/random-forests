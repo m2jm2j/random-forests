{
 "cells": [
  {
   "cell_type": "code",
   "execution_count": 1,
   "metadata": {},
   "outputs": [],
   "source": [
    "import pandas as pd\n",
    "import numpy as np\n",
    "import matplotlib.pyplot as plt\n",
    "plt.style.use('seaborn-ticks')\n",
    "%matplotlib inline\n",
    "from sklearn import preprocessing\n",
    "from sklearn.model_selection import KFold\n",
    "from sklearn.ensemble import RandomForestClassifier\n",
    "from sklearn.metrics import roc_auc_score\n",
    "from sklearn.metrics import precision_score\n",
    "from sklearn.metrics import recall_score\n",
    "from sklearn.metrics import roc_curve"
   ]
  },
  {
   "cell_type": "code",
   "execution_count": null,
   "metadata": {},
   "outputs": [],
   "source": [
    "# We will use random forests algoritm to estimate propability of situation, that employee leave the job\n",
    "# We will base of data of his satisfaction from work (satisfaction_level), satisfaction in previous year (last_evaluation),\n",
    "# number of project that he was involved in (number_project), how logh he work in month (average_montly_hours),\n",
    "# how many years he work in company (time_spend_company), if he had an accident in work (Work_accident),\n",
    "# if he had been promoted in 5 years (promotion_last_5years), his department (sales) and level of his salary (salary)"
   ]
  },
  {
   "cell_type": "code",
   "execution_count": 2,
   "metadata": {},
   "outputs": [],
   "source": [
    "# Data download\n",
    "# You shoud put your own path, where you saved HR.txt file on your computer\n",
    "df_o = pd.read_csv('C:/Users/Lenovo/Desktop/machine_learning./HR.txt')\n",
    "# Exploratory Data Analysis is in report.html file\n"
   ]
  },
  {
   "cell_type": "code",
   "execution_count": 3,
   "metadata": {},
   "outputs": [],
   "source": [
    "target = \"left\"\n",
    "numFeatures = ['satisfaction_level', 'last_evaluation', 'number_project','average_montly_hours', 'time_spend_company', 'Work_accident']\n",
    "catFeatures = [ 'promotion_last_5years', 'sales', 'salary']\n",
    "\n",
    "# Copying of the object\n",
    "df = df_o.copy()\n",
    "# Dictionary of maps\n",
    "mapy = {}\n",
    "for feature in catFeatures:\n",
    "    # Object that will contain map\n",
    "    le = preprocessing.LabelEncoder()\n",
    "    # Adjustment of column (map making)\n",
    "    df[feature] = le.fit_transform(df_o[feature])\n",
    "    # saving map\n",
    "    mapy[feature] = le\n",
    "    \n",
    "features = df.columns.tolist()\n",
    "features.remove(target)"
   ]
  },
  {
   "cell_type": "code",
   "execution_count": 4,
   "metadata": {},
   "outputs": [],
   "source": [
    "# cross-validation wrapper\n",
    "def CVTestRFClass(nFolds = 5, randomState=21347, debug=False, features=features, *args, **kwargs):\n",
    "    kf = KFold(n_splits=nFolds, shuffle=True, random_state=randomState)\n",
    "\n",
    "    # Lists for results:\n",
    "    testResults = []\n",
    "    trainResults = []\n",
    "    predictions = []\n",
    "    indices = []\n",
    "    precision = []\n",
    "    recall = []\n",
    "\n",
    "    # Loop over folds\n",
    "    for train, test in kf.split(df.index.values):\n",
    "        # estimator\n",
    "        clf = RandomForestClassifier(*args, **kwargs, random_state=randomState, n_jobs=-1)\n",
    "    \n",
    "        # Training the model\n",
    "        clf.fit(df.iloc[train][features], df.iloc[train][target])\n",
    "\n",
    "        # Forecast for treining and test sets\n",
    "        predsTrain = clf.predict_proba(df.iloc[train][features])[:,1]\n",
    "        preds = clf.predict_proba(df.iloc[test][features])[:,1]\n",
    "        \n",
    "        # saving prediction for this fold\n",
    "        predictions.append(preds.tolist().copy())\n",
    "        \n",
    "        # Saving indexes\n",
    "        indices.append(df.iloc[test].index.tolist().copy())\n",
    "\n",
    "        \n",
    "        # Calculation of model fit for a ROC-AUC metric for propability of leaving\n",
    "        trainScore = roc_auc_score((df[target].iloc[train]==1).astype(int), predsTrain)\n",
    "        testScore = roc_auc_score((df[target].iloc[test]==1).astype(int), preds)\n",
    "        predsBinary = preds.copy()\n",
    "        \n",
    "        # Calculating of precision and recall for clasification with selected threshold\n",
    "        threshold = 0.5\n",
    "        predsBinary[predsBinary>=threshold] = 1\n",
    "        predsBinary[predsBinary<threshold] = 0\n",
    "        \n",
    "        testPrecisionScore = precision_score((df[target].iloc[test]==1).astype(int), predsBinary)\n",
    "        testRecallScore = recall_score((df[target].iloc[test]==1).astype(int), predsBinary)\n",
    "        \n",
    "        # Seving the results\n",
    "        trainResults.append(trainScore)\n",
    "        testResults.append(testScore)\n",
    "        precision.append(testPrecisionScore)\n",
    "        recall.append(testRecallScore)\n",
    "        # Information about fitting in each fold\n",
    "        if debug:\n",
    "            print(\"Train AUC:\", round(trainScore, 4),\n",
    "                    \"Valid AUC:\", round(testScore, 4))\n",
    "        \n",
    "    return trainResults, testResults, predictions, indices, precision, recall, clf"
   ]
  },
  {
   "cell_type": "code",
   "execution_count": 5,
   "metadata": {},
   "outputs": [
    {
     "name": "stdout",
     "output_type": "stream",
     "text": [
      "10 1.0 0.9901 0.0099\n",
      "25 1.0 0.9919 0.0081\n",
      "50 1.0 0.9928 0.0072\n",
      "100 1.0 0.9926 0.0074\n",
      "200 1.0 0.9932 0.0068\n",
      "500 1.0 0.9932 0.0068\n",
      "1000 1.0 0.9933 0.0067\n",
      "2 0.9379 0.9377 0.0002\n",
      "4 0.98 0.9794 0.0006\n",
      "6 0.9879 0.9843 0.0036\n",
      "8 0.9953 0.9897 0.0056\n",
      "10 0.999 0.9925 0.0065\n",
      "12 0.9998 0.9927 0.0071\n",
      "14 0.9999 0.9937 0.0063\n",
      "16 1.0 0.9931 0.0069\n",
      "18 1.0 0.993 0.007\n",
      "20 1.0 0.9931 0.0069\n",
      "2 0.999 0.9925 0.0065\n",
      "3 0.9988 0.9925 0.0063\n",
      "4 0.9987 0.9925 0.0061\n",
      "5 0.9987 0.9929 0.0057\n",
      "6 0.9984 0.9924 0.006\n",
      "7 0.9984 0.9919 0.0065\n",
      "8 0.9983 0.9918 0.0065\n",
      "9 0.9982 0.9918 0.0064\n",
      "2 0.9976 0.9914 0.0062\n",
      "3 0.9987 0.9929 0.0057\n",
      "4 0.9988 0.992 0.0068\n",
      "5 0.9987 0.9922 0.0065\n",
      "6 0.9984 0.9919 0.0065\n",
      "7 0.9981 0.9916 0.0065\n",
      "8 0.9975 0.9909 0.0066\n",
      "9 0.9971 0.9901 0.007\n",
      "1 0.9987 0.9929 0.0057\n",
      "2 0.9984 0.9921 0.0064\n",
      "3 0.9982 0.992 0.0062\n",
      "4 0.9979 0.992 0.0059\n"
     ]
    }
   ],
   "source": [
    "# Hyperparameters\n",
    "# We will search for optimal values of hyperparameters\n",
    "\n",
    "# Loop over n_estimators\n",
    "for k in [10, 25, 50, 100, 200, 500, 1000]:\n",
    "    trainResults, testResults, predictions, indices, precision, recall, clfRF = CVTestRFClass(n_estimators=k)\n",
    "    print(k, np.round(np.mean(trainResults), 4), np.round(np.mean(testResults), 4), np.round(np.mean(trainResults) - np.mean(testResults), 4))\n",
    "\n",
    "# max_depth\n",
    "for k in range(2, 22, 2):\n",
    "    trainResults, testResults, predictions, indices, precision, recall, clfRF = CVTestRFClass(n_estimators=100, max_depth=k)\n",
    "    print(k, np.round(np.mean(trainResults), 4), np.round(np.mean(testResults), 4), np.round(np.mean(trainResults) - np.mean(testResults), 4))\n",
    "\n",
    "# min_sample_split\n",
    "for k in range(2, 10):\n",
    "    trainResults, testResults, predictions, indices, precision, recall, clfRF = CVTestRFClass(n_estimators=100, max_depth=10, min_samples_split=k)\n",
    "    print(k, np.round(np.mean(trainResults), 4), np.round(np.mean(testResults), 4), np.round(np.mean(trainResults) - np.mean(testResults), 4))\n",
    "\n",
    "# max_features\n",
    "for k in range(2, 10):\n",
    "    trainResults, testResults, predictions, indices, precision, recall, clfRF = CVTestRFClass(n_estimators=100, max_depth=10,max_features=k, min_samples_split=5)\n",
    "    print(k, np.round(np.mean(trainResults), 4), np.round(np.mean(testResults), 4), np.round(np.mean(trainResults) - np.mean(testResults), 4))\n",
    "\n",
    "# max_features\n",
    "for k in range(1, 5):\n",
    "    trainResults, testResults, predictions, indices, precision, recall, clfRF = CVTestRFClass(n_estimators=100, max_depth=10,max_features=3, min_samples_split=5, min_samples_leaf=k)\n",
    "    print(k, np.round(np.mean(trainResults), 4), np.round(np.mean(testResults), 4), np.round(np.mean(trainResults) - np.mean(testResults), 4))"
   ]
  },
  {
   "cell_type": "code",
   "execution_count": 6,
   "metadata": {},
   "outputs": [
    {
     "name": "stdout",
     "output_type": "stream",
     "text": [
      "mean Valid AUC:  0.9934\n"
     ]
    }
   ],
   "source": [
    "# Training and saving model with best hyperparameters\n",
    "trainResults, testResults, predictions, indices, precision, recall, clfRF = CVTestRFClass(n_estimators=200, max_depth=14, max_features=3, min_samples_split=5, min_samples_leaf=1)\n",
    "print(\"mean Valid AUC: \", np.round(np.mean(testResults),4))\n",
    "\n",
    "modelRF = {\n",
    "    \"name\":\"RF\",\n",
    "    \"description\":\"Model RF, ze zmiennymi kategorycznymi z LE\",\n",
    "    \"specification\":'n_estimators=200, max_depth=14, max_features=3, min_samples_split=5, min_samples_leaf=1',\n",
    "    \"trainResults\":trainResults.copy(),\n",
    "    \"testResults\":testResults.copy(),\n",
    "    \"predictions\":predictions.copy(),\n",
    "    \"indices\":indices.copy(),\n",
    "    \"model\": clfRF,\n",
    "}"
   ]
  },
  {
   "cell_type": "code",
   "execution_count": 7,
   "metadata": {},
   "outputs": [],
   "source": [
    "# Plotting function\n",
    "def plotROCs(results):\n",
    "\n",
    "    # Size\n",
    "    fig, ax = plt.subplots(figsize=(10,9))\n",
    "        \n",
    "    for true, pred, label in results:\n",
    "        # Calculating the points needed to draw the ROC curve\n",
    "        # The roc_curve function returns three data series, fpr, tpr and the cut-off levels\n",
    "        fpr, tpr, thresholds = roc_curve(true, pred)\n",
    "        # Calculate the Area Under the Curve\n",
    "        rocScore = roc_auc_score(true, pred)\n",
    "        rocScore = round(rocScore, 3)\n",
    "    \n",
    "        # Curve thickness\n",
    "        lw = 2\n",
    "\n",
    "        # Plotting the ROC curve\n",
    "        ax.plot(fpr, tpr, lw=lw, label=f'{label}: {rocScore}')\n",
    "    # Drawing a 45 degree curve as a reference point\n",
    "    ax.plot([0, 1], [0, 1], color='navy', lw=lw, linestyle='--')\n",
    "    # margins\n",
    "    ax.set_xlim([-0.01, 1.0])\n",
    "    ax.set_ylim([0.0, 1.01])\n",
    "    ax.set_xlabel('False Positive Rate')\n",
    "    ax.set_ylabel('True Positive Rate')\n",
    "    ax.set_title(f'Receiver operating characteristic - {rocScore}')\n",
    "    ax.legend(loc=\"lower right\")\n",
    "    plt.show()"
   ]
  },
  {
   "cell_type": "code",
   "execution_count": 8,
   "metadata": {},
   "outputs": [
    {
     "data": {
      "image/png": "[encoded data removed]",
      "text/plain": [
       "<Figure size 720x648 with 1 Axes>"
      ]
     },
     "metadata": {
      "needs_background": "light"
     },
     "output_type": "display_data"
    }
   ],
   "source": [
    "res2plot = []\n",
    "true = (df[target]==1).astype(int).sort_index()\n",
    "for result in [modelRF]:\n",
    "    # Creating a prediction vector by creating a pandas series and then sorting the index\n",
    "    pred = pd.Series(sum(result[\"predictions\"], []), index=sum(result[\"indices\"], [])).sort_index()\n",
    "    res2plot.append((true, pred, result[\"name\"]))\n",
    "    \n",
    "# Plotting\n",
    "plotROCs(res2plot)"
   ]
  },
  {
   "cell_type": "code",
   "execution_count": 90,
   "metadata": {},
   "outputs": [],
   "source": [
    "# The model looks OK"
   ]
  },
  {
   "cell_type": "code",
   "execution_count": 9,
   "metadata": {},
   "outputs": [
    {
     "name": "stdout",
     "output_type": "stream",
     "text": [
      "precision 0.9943970001064104\n",
      "recall 0.9446489016553112\n"
     ]
    }
   ],
   "source": [
    "# Precision and recall\n",
    "print(\"precision\", np.mean(precision))\n",
    "print(\"recall\", np.mean(recall))"
   ]
  },
  {
   "cell_type": "code",
   "execution_count": 83,
   "metadata": {},
   "outputs": [],
   "source": [
    "# model in use\n",
    "# Lets check the propability of leaving the exemplary person"
   ]
  },
  {
   "cell_type": "code",
   "execution_count": 84,
   "metadata": {},
   "outputs": [
    {
     "data": {
      "text/plain": [
       "['satisfaction_level',\n",
       " 'last_evaluation',\n",
       " 'number_project',\n",
       " 'average_montly_hours',\n",
       " 'time_spend_company',\n",
       " 'Work_accident',\n",
       " 'promotion_last_5years',\n",
       " 'sales',\n",
       " 'salary']"
      ]
     },
     "execution_count": 84,
     "metadata": {},
     "output_type": "execute_result"
    }
   ],
   "source": [
    "# Firstly, lets check what we need to know about employee:\n",
    "features"
   ]
  },
  {
   "cell_type": "code",
   "execution_count": 85,
   "metadata": {},
   "outputs": [],
   "source": [
    "#Lets remind the possible states of the department of employee and his salary"
   ]
  },
  {
   "cell_type": "code",
   "execution_count": 86,
   "metadata": {},
   "outputs": [
    {
     "name": "stdout",
     "output_type": "stream",
     "text": [
      "['IT' 'RandD' 'accounting' 'hr' 'management' 'marketing' 'product_mng'\n",
      " 'sales' 'support' 'technical']\n",
      "['high' 'low' 'medium']\n"
     ]
    }
   ],
   "source": [
    "print(mapy['sales'].classes_)\n",
    "print(mapy['salary'].classes_)"
   ]
  },
  {
   "cell_type": "code",
   "execution_count": 87,
   "metadata": {},
   "outputs": [],
   "source": [
    "#Lets consider person, that have 0.45 in satisfaction level, 0.51 in previous evaluation of satisfaction, \n",
    "# worked in 2 projecs, worked 160 hours, spent 3 years in company, had accident in work, not promated in 5 years,\n",
    "# been working in technical department and have medium salary"
   ]
  },
  {
   "cell_type": "code",
   "execution_count": 88,
   "metadata": {},
   "outputs": [
    {
     "name": "stdout",
     "output_type": "stream",
     "text": [
      "[9]\n",
      "[2]\n"
     ]
    }
   ],
   "source": [
    "# Show the codes of technical department and medium salary\n",
    "print(mapy['sales'].transform(['technical']))\n",
    "print(mapy['salary'].transform(['medium']))"
   ]
  },
  {
   "cell_type": "code",
   "execution_count": 89,
   "metadata": {},
   "outputs": [
    {
     "name": "stdout",
     "output_type": "stream",
     "text": [
      "[0.97247378]\n"
     ]
    }
   ],
   "source": [
    "# Lets put all values and codes of the features in the model and print the answer\n",
    "likelihood_of_dismissal = clfRF.predict_proba([[0.45,0.51,2,160,3,1,0,9,2]])[:,1]\n",
    "print(likelihood_of_dismissal)"
   ]
  }
 ],
 "metadata": {
  "kernelspec": {
   "display_name": "Python 3",
   "language": "python",
   "name": "python3"
  },
  "language_info": {
   "codemirror_mode": {
    "name": "ipython",
    "version": 3
   },
   "file_extension": ".py",
   "mimetype": "text/x-python",
   "name": "python",
   "nbconvert_exporter": "python",
   "pygments_lexer": "ipython3",
   "version": "3.7.4"
  }
 },
 "nbformat": 4,
 "nbformat_minor": 2
}
